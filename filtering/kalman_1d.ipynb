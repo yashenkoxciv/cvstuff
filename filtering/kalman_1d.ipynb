{
 "cells": [
  {
   "cell_type": "code",
   "execution_count": 3,
   "metadata": {},
   "outputs": [],
   "source": [
    "import numpy as np\n",
    "import matplotlib.pyplot as plt\n",
    "from collections import namedtuple\n",
    "from scipy.stats import norm\n",
    "plt.style.use('seaborn-whitegrid')"
   ]
  },
  {
   "cell_type": "code",
   "execution_count": 14,
   "metadata": {},
   "outputs": [],
   "source": [
    "Gaussian = namedtuple('Gaussian', ['mean', 'var'])\n",
    "Gaussian.sample = lambda self, n: np.random.normal(self.mean, self.var, n)\n",
    "\n",
    "def product_gaussians(self, other_g):\n",
    "    m1, m2 = self.mean, other_g.mean\n",
    "    v1, v2 = self.var, other_g.var\n",
    "    #v1_sqr, v2_sqr = v1**2, v2**2\n",
    "    mean = (v1*m2 + v2*m1) / (v1 + v2)\n",
    "    var = (v1*v2) / (v1 + v2)\n",
    "    return Gaussian(mean=mean, var=var)\n",
    "\n",
    "def add_gaussians(self, other_g):\n",
    "    mean = self.mean + other_g.mean\n",
    "    var = self.var + other_g.var\n",
    "    return Gaussian(mean=mean, var=var)\n",
    "\n",
    "def plot_gaussian(self):\n",
    "    #title = '$\\mathcal{N}'+'({0},{1})'.format(self.mean, self.var)+'$'\n",
    "    #x = np.arange(-self.var*5, self.var*5, .01)\n",
    "    #y = norm(loc=self.mean, scale=self.var).pdf(x)\n",
    "    x, y, title = self.pdf()\n",
    "    plt.plot(x, y)\n",
    "    plt.title(title)\n",
    "    plt.show()\n",
    "\n",
    "def pdf_gaussian(self):\n",
    "    title = '$\\mathcal{N}'+'({0:1.2f},{1:1.2f})'.format(self.mean, self.var)+'$'\n",
    "    x = np.arange(-self.var*5, self.var*5, .01)\n",
    "    y = norm(loc=self.mean, scale=self.var).pdf(x)\n",
    "    return x, y, title\n",
    "\n",
    "def str_gaussian(self):\n",
    "    return '𝒩(μ={:.3f}, 𝜎²={:.3f})'.format(self.mean, self.var)\n",
    "\n",
    "Gaussian.__mul__ = product_gaussians\n",
    "Gaussian.__add__ = add_gaussians\n",
    "Gaussian.__str__ = str_gaussian\n",
    "Gaussian.__repr__ = str_gaussian\n",
    "Gaussian.plot = plot_gaussian\n",
    "Gaussian.pdf = pdf_gaussian"
   ]
  },
  {
   "cell_type": "code",
   "execution_count": 15,
   "metadata": {},
   "outputs": [],
   "source": [
    "def gaussian_comparing(gs):\n",
    "    legend = []\n",
    "    for g in gs:\n",
    "        legend.append('$\\mathcal{N}'+'({0:1.2f},{1:1.2f})'.format(g.mean, g.var)+'$')\n",
    "        x = np.arange(-g.var*5, g.var*5, .01)\n",
    "        y = norm(loc=g.mean, scale=g.var).pdf(x)\n",
    "        plt.plot(x, y)\n",
    "    plt.legend(legend)\n",
    "    plt.show()"
   ]
  },
  {
   "cell_type": "code",
   "execution_count": 16,
   "metadata": {},
   "outputs": [],
   "source": [
    "def predict(pos, mvt):\n",
    "    return pos + mvt"
   ]
  },
  {
   "cell_type": "code",
   "execution_count": 17,
   "metadata": {},
   "outputs": [
    {
     "data": {
      "text/plain": [
       "𝒩(μ=25.000, 𝜎²=0.530)"
      ]
     },
     "execution_count": 17,
     "metadata": {},
     "output_type": "execute_result"
    }
   ],
   "source": [
    "predict(Gaussian(10.0, 0.2**2), Gaussian(15.0, 0.7**2))"
   ]
  },
  {
   "cell_type": "code",
   "execution_count": 18,
   "metadata": {},
   "outputs": [],
   "source": [
    "def update(prior, likelihood):\n",
    "    return prior*likelihood"
   ]
  },
  {
   "cell_type": "code",
   "execution_count": 19,
   "metadata": {},
   "outputs": [
    {
     "data": {
      "text/plain": [
       "𝒩(μ=10.377, 𝜎²=0.037)"
      ]
     },
     "execution_count": 19,
     "metadata": {},
     "output_type": "execute_result"
    }
   ],
   "source": [
    "update(Gaussian(10.0, 0.2**2), Gaussian(15.0, 0.7**2))"
   ]
  },
  {
   "cell_type": "code",
   "execution_count": 38,
   "metadata": {},
   "outputs": [],
   "source": [
    "def noisy_linear(x):\n",
    "    return np.random.randn(len(x))*0.85 + x"
   ]
  },
  {
   "cell_type": "code",
   "execution_count": 55,
   "metadata": {},
   "outputs": [],
   "source": [
    "np.random.seed(13)\n",
    "\n",
    "process_var = 1.\n",
    "sensor_var = 2.\n",
    "\n",
    "x = Gaussian(0., 20.**2)\n",
    "\n",
    "velocity = 1\n",
    "dt = 1.\n",
    "process_model = Gaussian(velocity, process_var)\n",
    "\n",
    "zs = [1.354, 1.882, 4.341, 7.156, 6.939, 6.844, 9.847, 12.553, 16.273, 14.800]"
   ]
  },
  {
   "cell_type": "code",
   "execution_count": 56,
   "metadata": {},
   "outputs": [
    {
     "name": "stdout",
     "output_type": "stream",
     "text": [
      "x.mean=1.000\t x.var=401.000\t z=1.354\t x.mean=1.352\t x.var=1.990\n",
      "x.mean=2.352\t x.var=2.990\t z=1.882\t x.mean=2.070\t x.var=1.198\n",
      "x.mean=3.070\t x.var=2.198\t z=4.341\t x.mean=3.736\t x.var=1.047\n",
      "x.mean=4.736\t x.var=2.047\t z=7.156\t x.mean=5.960\t x.var=1.012\n",
      "x.mean=6.960\t x.var=2.012\t z=6.939\t x.mean=6.949\t x.var=1.003\n",
      "x.mean=7.949\t x.var=2.003\t z=6.844\t x.mean=7.396\t x.var=1.001\n",
      "x.mean=8.396\t x.var=2.001\t z=9.847\t x.mean=9.122\t x.var=1.000\n",
      "x.mean=10.122\t x.var=2.000\t z=12.553\t x.mean=11.337\t x.var=1.000\n",
      "x.mean=12.337\t x.var=2.000\t z=16.273\t x.mean=14.305\t x.var=1.000\n",
      "x.mean=15.305\t x.var=2.000\t z=14.800\t x.mean=15.053\t x.var=1.000\n"
     ]
    },
    {
     "data": {
      "image/png": "[encoded data removed]",
      "text/plain": [
       "<Figure size 432x288 with 1 Axes>"
      ]
     },
     "metadata": {},
     "output_type": "display_data"
    }
   ],
   "source": [
    "# Kalman filter\n",
    "xs, predictions = [], []\n",
    "\n",
    "for z in zs:\n",
    "    prior = predict(x, process_model)\n",
    "    likelihood = Gaussian(z, sensor_var)\n",
    "    x = update(prior, likelihood)\n",
    "    \n",
    "    xs.append(x.mean)\n",
    "    predictions.append(prior.mean)\n",
    "    \n",
    "    print('x.mean={:3.3f}\\t x.var={:3.3f}\\t z={:3.3f}\\t x.mean={:3.3f}\\t x.var={:3.3f}'.format(\n",
    "        prior.mean, prior.var, z, x.mean, x.var\n",
    "    ))\n",
    "\n",
    "xn = np.arange(0, len(zs), 1)\n",
    "plt.scatter(xn, zs)\n",
    "plt.scatter(xn, predictions)\n",
    "plt.plot(xn, xs, 'b-')\n",
    "plt.legend(['filtered', 'data', 'preds'])\n",
    "plt.show()"
   ]
  },
  {
   "cell_type": "code",
   "execution_count": null,
   "metadata": {},
   "outputs": [],
   "source": []
  }
 ],
 "metadata": {
  "kernelspec": {
   "display_name": "Python 3",
   "language": "python",
   "name": "python3"
  },
  "language_info": {
   "codemirror_mode": {
    "name": "ipython",
    "version": 3
   },
   "file_extension": ".py",
   "mimetype": "text/x-python",
   "name": "python",
   "nbconvert_exporter": "python",
   "pygments_lexer": "ipython3",
   "version": "3.6.5"
  }
 },
 "nbformat": 4,
 "nbformat_minor": 2
}
